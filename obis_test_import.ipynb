{
 "cells": [
  {
   "cell_type": "code",
   "execution_count": 1,
   "metadata": {},
   "outputs": [],
   "source": [
    "import obis"
   ]
  },
  {
   "cell_type": "code",
   "execution_count": 2,
   "metadata": {},
   "outputs": [
    {
     "data": {
      "text/plain": [
       "['__builtins__',\n",
       " '__cached__',\n",
       " '__content__',\n",
       " '__doc__',\n",
       " '__file__',\n",
       " '__loader__',\n",
       " '__name__',\n",
       " '__package__',\n",
       " '__path__',\n",
       " '__revisionid__',\n",
       " '__spec__',\n",
       " '__version__',\n",
       " '_pkginfo']"
      ]
     },
     "execution_count": 2,
     "metadata": {},
     "output_type": "execute_result"
    }
   ],
   "source": [
    "dir(obis)"
   ]
  },
  {
   "cell_type": "code",
   "execution_count": 3,
   "metadata": {},
   "outputs": [
    {
     "data": {
      "text/plain": [
       "['/Users/twellman/anaconda/envs/bis_python_obis/lib/python3.5/site-packages/obis']"
      ]
     },
     "execution_count": 3,
     "metadata": {},
     "output_type": "execute_result"
    }
   ],
   "source": [
    "obis.__path__"
   ]
  },
  {
   "cell_type": "code",
   "execution_count": 4,
   "metadata": {},
   "outputs": [
    {
     "data": {
      "text/plain": [
       "{'build': '0x000000',\n",
       " 'content': 'BCB_OBIS processor package identification',\n",
       " 'errors': 'None',\n",
       " 'revisionid': 'd2807f09-abc9-400e-819b-5ed69b97f8a2',\n",
       " 'version': '0.0.2'}"
      ]
     },
     "execution_count": 4,
     "metadata": {},
     "output_type": "execute_result"
    }
   ],
   "source": [
    "# The pkginfo tag provides module build information,\n",
    "# perhaps a way to track versions through a data pipeline.\n",
    "# A json file is read automatically into the module upon import, as shown below.\n",
    "# The json file enables external referencing by other utilities, including messaging services.\n",
    "\n",
    "obis._pkginfo"
   ]
  },
  {
   "cell_type": "code",
   "execution_count": 5,
   "metadata": {},
   "outputs": [
    {
     "name": "stdout",
     "output_type": "stream",
     "text": [
      "Help on package obis:\n",
      "\n",
      "NAME\n",
      "    obis\n",
      "\n",
      "DESCRIPTION\n",
      "    obis processor - An OBIS processor package for Python,\n",
      "    A slice of the Biogeographic Information System\n",
      "    =====================================================================\n",
      "    \n",
      "    This script downloads final source CSV files from the OBIS-USA collection, converts them to\n",
      "    netCDF and stages them for consumption by ERDDAP.  It also generates the datasets.xml ERDDAP\n",
      "    configuration file to serve those netCDF files as data sets.\n",
      "    \n",
      "    Main Features\n",
      "    -------------\n",
      "    Functionality is limited (work in progress) to a few major tasks:\n",
      "    \n",
      "      - Retrieves source csv files and metadata information from ScienceBase\n",
      "      - Processes source csv file using regex to determine formatting\n",
      "      - Converts specified source CSV to NetCDF with a single \"index\" (row) dimension\n",
      "      - Regenerates source CSV from NetCDF and compares csv files\n",
      "      - Uses xarray-dask dataframe or messytables conversion approach\n",
      "      - Controls memory consumption using data chunking\n",
      "      - Incorporates basic error checking and message diagnostics\n",
      "      - Evaluates dtypes, selects dtype using low-level logic + conflict resolution,\n",
      "      - Summarizes results, rejects source file when encountering critical errors.\n",
      "      - Outputs a basic processing report\n",
      "\n",
      "PACKAGE CONTENTS\n",
      "    processor\n",
      "\n",
      "DATA\n",
      "    __content__ = 'BCB_OBIS processor package identification'\n",
      "    __revisionid__ = 'd2807f09-abc9-400e-819b-5ed69b97f8a2'\n",
      "\n",
      "VERSION\n",
      "    0.0.2\n",
      "\n",
      "FILE\n",
      "    /Users/twellman/anaconda/envs/bis_python_obis/lib/python3.5/site-packages/obis/__init__.py\n",
      "\n",
      "\n",
      "None\n"
     ]
    }
   ],
   "source": [
    "# Description of module\n",
    "\n",
    "print(help(obis))"
   ]
  },
  {
   "cell_type": "code",
   "execution_count": 6,
   "metadata": {},
   "outputs": [
    {
     "name": "stderr",
     "output_type": "stream",
     "text": [
      "2018-07-05 12:57:47.589 -  MESSAGE - ** Processor activated **\n",
      "2018-07-05 12:57:47.594 -     INFO - ** Searching ScienceBase records for data files and metdata **\n",
      "2018-07-05 12:57:49.037 -    DEBUG -    1 DryTortugasReefVisualCensus2004_Event.csv\n",
      "2018-07-05 12:57:49.039 -    DEBUG -     SBase date: 2017-05-16T16:05:24Z, local date: 2018-05-17T15:23:27Z\n",
      "2018-07-05 12:57:49.040 -    DEBUG -     local source file is up to date\n",
      "2018-07-05 12:57:49.041 -    DEBUG -    2 DryTortugasReefVisualCensus2004_measurementOrFact.csv\n",
      "2018-07-05 12:57:49.043 -    DEBUG -     SBase date: 2017-05-16T16:06:37Z, local date: 2018-05-17T15:23:37Z\n",
      "2018-07-05 12:57:49.044 -    DEBUG -     local source file is up to date\n",
      "2018-07-05 12:57:49.048 -    DEBUG -    3 DryTortugasReefVisualCensus2004_occurence.csv\n",
      "2018-07-05 12:57:49.054 -    DEBUG -     SBase date: 2017-07-25T17:18:51Z, local date: 2018-05-23T22:29:27Z\n",
      "2018-07-05 12:57:49.060 -    DEBUG -     local source file is up to date\n",
      "2018-07-05 12:57:49.061 -     INFO -    Sciencebase search summary: items to search  1\n",
      "2018-07-05 12:57:49.065 -     INFO -    Sciencebase search summary: downloaded files  0\n",
      "2018-07-05 12:57:49.066 -     INFO -    Sciencebase search summary: download_size_mb  0.0\n",
      "2018-07-05 12:57:49.070 -     INFO -    Sciencebase search summary: total files  8\n",
      "2018-07-05 12:57:49.072 -     INFO -    Sciencebase search summary: scibase_size_mb  344.060365\n",
      "2018-07-05 12:57:49.073 -     INFO -    Sciencebase search summary: candidate files  3\n",
      "2018-07-05 12:57:49.075 -    DEBUG - arcod_20160822.csv from different request\n",
      "2018-07-05 12:57:49.086 -    DEBUG - ** Processing available data files\n",
      "2018-07-05 12:57:49.088 -    DEBUG - Processing file # 1: arcod_20160822.csv\n",
      "2018-07-05 12:57:49.093 -    DEBUG - \tImplemented dataframe (Xarray, Dask) file conversion method\n",
      "2018-07-05 12:57:49.215 -    DEBUG - \tReconstructed source file from NetCDF in chunks: 2\n",
      "2018-07-05 12:57:51.611 -    DEBUG - \tIdentified source file in local directory\n",
      "2018-07-05 12:57:51.612 -    DEBUG - \treconstructed csv\n",
      "2018-07-05 12:57:51.613 -    DEBUG - Processing file # 2: DryTortugasReefVisualCensus2004_Event.csv\n",
      "2018-07-05 12:57:51.616 -    DEBUG - \tProcessed metadata\n",
      "2018-07-05 12:57:51.618 -    DEBUG - \tImplemented dataframe (Xarray, Dask) file conversion method\n",
      "2018-07-05 12:57:51.621 -    DEBUG - \tIdentified source file in local directory\n",
      "2018-07-05 12:57:51.622 -    DEBUG - Processing file # 3: DryTortugasReefVisualCensus2004_measurementOrFact.csv\n",
      "2018-07-05 12:57:51.625 -    DEBUG - \tProcessed metadata\n",
      "2018-07-05 12:57:51.629 -    DEBUG - \tImplemented dataframe (Xarray, Dask) file conversion method\n",
      "2018-07-05 12:57:51.633 -    DEBUG - \tIdentified source file in local directory\n",
      "2018-07-05 12:57:51.635 -    DEBUG - Processing file # 4: DryTortugasReefVisualCensus2004_occurence.csv\n",
      "2018-07-05 12:57:51.642 -    DEBUG - \tProcessed metadata\n",
      "2018-07-05 12:57:51.645 -    DEBUG - \tImplemented dataframe (Xarray, Dask) file conversion method\n",
      "2018-07-05 12:57:51.646 -    DEBUG - \tIdentified source file in local directory\n",
      "2018-07-05 12:58:04.332 -    DEBUG - ** Writing file of global missing label definitions (missing_vocab.json)\n",
      "2018-07-05 12:58:04.352 -     INFO - ** Writing Datasets.xml file for ERDDAP\n",
      "2018-07-05 12:58:04.353 -    DEBUG -    writing in dataset arcod_20160822\n",
      "2018-07-05 12:58:04.380 -    DEBUG -    writing in dataset DryTortugasReefVisualCensus2004_Event\n",
      "2018-07-05 12:58:04.409 -    DEBUG -    writing in dataset DryTortugasReefVisualCensus2004_measurementOrFact\n",
      "2018-07-05 12:58:04.424 -    DEBUG -    writing in dataset DryTortugasReefVisualCensus2004_occurence\n",
      "2018-07-05 12:58:04.494 -    DEBUG -    datasets.xml file created\n",
      "2018-07-05 12:58:04.495 -  MESSAGE - ** Processor terminated **\n",
      "\n",
      "\n"
     ]
    }
   ],
   "source": [
    "# Run default example to process *.csv files stored in a ScienceBase item: \n",
    "# https://www.sciencebase.gov/catalog/item/57fe93d5e4b0824b2d14cbe1\n",
    "# Otherwise, uses default configurations\n",
    "\n",
    "# outputs logs (no standard out)\n",
    "\n",
    "from obis import processor\n",
    "obis.processor.run()\n"
   ]
  },
  {
   "cell_type": "code",
   "execution_count": 7,
   "metadata": {},
   "outputs": [
    {
     "data": {
      "text/plain": [
       "{'LLAT_specs': {'altitude': {'destinationName': 'altitude',\n",
       "   'positive': 'up',\n",
       "   'units': 'm'},\n",
       "  'depth': {'destinationName': 'depth', 'positive': 'down', 'units': 'm'},\n",
       "  'eventDate': {'destinationName': 'time'},\n",
       "  'latitude': {'destinationName': 'latitude', 'units': 'degrees_north'},\n",
       "  'longitude': {'destinationName': 'longitude', 'units': 'degrees_east'}},\n",
       " 'absent_string': 'NA',\n",
       " 'cf_comply': False,\n",
       " 'chunk_elements': 5000000.0,\n",
       " 'collection_id': '57fe93d5e4b0824b2d14cbe1',\n",
       " 'compare_csv2csv': True,\n",
       " 'convert_chars': OrderedDict([('\\n', ''),\n",
       "              (',n/a,', ',NA,'),\n",
       "              (',none,', ',NA,'),\n",
       "              (',na,', ',NA,')]),\n",
       " 'convert_method': 'dataframe',\n",
       " 'create_datasets_xml': True,\n",
       " 'create_netcdf_files': True,\n",
       " 'create_virtual_datasets': False,\n",
       " 'date_convert': 'string',\n",
       " 'date_fmt': '%Y-%m-%dT%H:%M:%SZ',\n",
       " 'dump_csv': True,\n",
       " 'erddap_data_dir': './erddap_data/nc_test',\n",
       " 'error_report': True,\n",
       " 'fetch_csvs': True,\n",
       " 'fetch_metadata': True,\n",
       " 'file_overwrite': False,\n",
       " 'file_srch': {'ftype_req': ['.csv', '.zip'],\n",
       "  'name': ['occurrence', 'event', 'measurementOrFact'],\n",
       "  'title': ['DarwinCore:event',\n",
       "   'DarwinCore:occurrence',\n",
       "   'DarwinCore:measurementOrFact',\n",
       "   'final processed source',\n",
       "   'Final Processed File']},\n",
       " 'fname_ext': '_redo_',\n",
       " 'int_float_accept': False,\n",
       " 'log_level': 10,\n",
       " 'log_screen': True,\n",
       " 'max_report': 50,\n",
       " 'netcdf_type': 'NETCDF4_CLASSIC',\n",
       " 'numeric_terms': ['_meters',\n",
       "  'minimum_',\n",
       "  'maximum_',\n",
       "  '_minimum_',\n",
       "  '_maximum',\n",
       "  'decimal',\n",
       "  'in_meters'],\n",
       " 'postfilter': False,\n",
       " 'prefilter': False,\n",
       " 'proc_limit': False,\n",
       " 'proc_overwrite': False,\n",
       " 'q_fmt': ['\"', '\"{}\"', \"'\"],\n",
       " 'qoute_format': '[\\\\,](?=(?:[^\"]*\"[^\"]*\")*[^\"]*$)',\n",
       " 'quote_style': 2,\n",
       " 'recon_data_dir': './erddap_data/nc_test/recreate_files',\n",
       " 'report_dir': './erddap_data/nc_test/processing_reports',\n",
       " 'rows_per_file': 0,\n",
       " 'sample_size': 0,\n",
       " 'server_nc_directory': './erddap_data/nc_test',\n",
       " 'source_data_dir': './source_data_test',\n",
       " 'string_fmt': 'UTF-8',\n",
       " 'string_terms': ['_id,', '_code'],\n",
       " 'table_output': False,\n",
       " 'tempdir': './erddap_data/nc_test/test/',\n",
       " 'variable_units': {'WeightsN': 'N',\n",
       "  'inKg': 'kg',\n",
       "  'in_meters': 'm',\n",
       "  'inmeters': 'm'},\n",
       " 'verbose': False,\n",
       " 'vocab': '/Users/twellman/anaconda/envs/bis_python_obis/lib/python3.5/site-packages/obis/data/vocab_standards.json',\n",
       " 'vocab_name': 'vocabulary standard',\n",
       " 'window': 500,\n",
       " 'workdir': None}"
      ]
     },
     "execution_count": 7,
     "metadata": {},
     "output_type": "execute_result"
    }
   ],
   "source": [
    "# In notebook, retrieve default input commands \n",
    "\n",
    "obis.processor.default_inputs()"
   ]
  },
  {
   "cell_type": "code",
   "execution_count": 8,
   "metadata": {},
   "outputs": [
    {
     "name": "stderr",
     "output_type": "stream",
     "text": [
      "2018-07-05 12:58:04.527 -  MESSAGE - ** Processor activated **\n",
      "2018-07-05 12:58:04.535 -     INFO - ** Searching ScienceBase records for data files and metdata **\n",
      "2018-07-05 12:58:18.228 -     INFO -    Sciencebase search summary: items to search  1\n",
      "2018-07-05 12:58:18.228 -     INFO -    Sciencebase search summary: downloaded files  3\n",
      "2018-07-05 12:58:18.229 -     INFO -    Sciencebase search summary: download_size_mb  173.972633\n",
      "2018-07-05 12:58:18.230 -     INFO -    Sciencebase search summary: total files  8\n",
      "2018-07-05 12:58:18.233 -     INFO -    Sciencebase search summary: scibase_size_mb  173.972633\n",
      "2018-07-05 12:58:18.234 -     INFO -    Sciencebase search summary: candidate files  3\n",
      "2018-07-05 12:59:53.189 -     INFO - ** Writing Datasets.xml file for ERDDAP\n",
      "2018-07-05 12:59:53.361 -  MESSAGE - ** Processor terminated **\n",
      "\n",
      "\n"
     ]
    }
   ],
   "source": [
    "# Example - modify default inputs.\n",
    "# Default processing commands can be modfied,\n",
    "# using a dictionary of keywords and values as arguments,\n",
    "# or (not shown) using the command line as sys.argv or *.yaml file \n",
    "\n",
    "# Default operation is to processes a specific ScienceBase item in the OBIS Collection,\n",
    "# i.e. https://www.sciencebase.gov/catalog/item/57fe93d5e4b0824b2d14cbe1\n",
    "\n",
    "# The following example is used to (1) change the ScienceBase item number,\n",
    "# (2) disable the option to create a processing report,\n",
    "# (3) change the maximum reporting errors per data column to 100 instead of 50 (default), and\n",
    "# (4) change the logging level to >= info level (20) to eliminate debug level reporting).    \n",
    "    \n",
    "# alt_args = {'collection_id': '57fe9d82e4b0824b2d14f221', \n",
    "#            'error_report': False, 'max_report': 100,\n",
    "#            'log_level': 20}\n",
    "\n",
    "# can operate using processor.run(**alt_args)\n",
    "#\n",
    "# or using discrete inputs:\n",
    "\n",
    "processor.run(collection_id = '57fe9d82e4b0824b2d14f221', \n",
    "            error_report = False, max_report= 100, log_level = 20)"
   ]
  },
  {
   "cell_type": "code",
   "execution_count": 9,
   "metadata": {
    "collapsed": true
   },
   "outputs": [],
   "source": [
    "# same setup as above, but without printing to console, log to file only\n",
    "\n",
    "alt_args = {'collection_id': '57fe9d82e4b0824b2d14f221', \n",
    "            'error_report': False, 'max_report': 100,\n",
    "            'log_level': 20, 'log_screen' : False}\n",
    "processor.run(**alt_args)"
   ]
  },
  {
   "cell_type": "code",
   "execution_count": 10,
   "metadata": {},
   "outputs": [
    {
     "name": "stdout",
     "output_type": "stream",
     "text": [
      "2018-07-05 12:57:47.589 obis.processor:  MESSAGE  ** Processor activated **\n",
      "2018-07-05 12:57:47.594 obis.processor:  INFO     ** Searching ScienceBase records for data files and metdata **\n",
      "2018-07-05 12:57:49.037 obis.processor:  DEBUG       1 DryTortugasReefVisualCensus2004_Event.csv\n",
      "2018-07-05 12:57:49.039 obis.processor:  DEBUG        SBase date: 2017-05-16T16:05:24Z, local date: 2018-05-17T15:23:27Z\n",
      "2018-07-05 12:57:49.040 obis.processor:  DEBUG        local source file is up to date\n",
      "2018-07-05 12:57:49.041 obis.processor:  DEBUG       2 DryTortugasReefVisualCensus2004_measurementOrFact.csv\n",
      "2018-07-05 12:57:49.043 obis.processor:  DEBUG        SBase date: 2017-05-16T16:06:37Z, local date: 2018-05-17T15:23:37Z\n",
      "2018-07-05 12:57:49.044 obis.processor:  DEBUG        local source file is up to date\n",
      "2018-07-05 12:57:49.048 obis.processor:  DEBUG       3 DryTortugasReefVisualCensus2004_occurence.csv\n",
      "2018-07-05 12:57:49.054 obis.processor:  DEBUG        SBase date: 2017-07-25T17:18:51Z, local date: 2018-05-23T22:29:27Z\n",
      "2018-07-05 12:57:49.060 obis.processor:  DEBUG        local source file is up to date\n",
      "2018-07-05 12:57:49.061 obis.processor:  INFO        Sciencebase search summary: items to search  1\n",
      "2018-07-05 12:57:49.065 obis.processor:  INFO        Sciencebase search summary: downloaded files  0\n",
      "2018-07-05 12:57:49.066 obis.processor:  INFO        Sciencebase search summary: download_size_mb  0.0\n",
      "2018-07-05 12:57:49.070 obis.processor:  INFO        Sciencebase search summary: total files  8\n",
      "2018-07-05 12:57:49.072 obis.processor:  INFO        Sciencebase search summary: scibase_size_mb  344.060365\n",
      "2018-07-05 12:57:49.073 obis.processor:  INFO        Sciencebase search summary: candidate files  3\n",
      "2018-07-05 12:57:49.075 obis.processor:  DEBUG    arcod_20160822.csv from different request\n",
      "2018-07-05 12:57:49.086 obis.processor:  DEBUG    ** Processing available data files\n",
      "2018-07-05 12:57:49.088 obis.processor:  DEBUG    Processing file # 1: arcod_20160822.csv\n",
      "2018-07-05 12:57:49.093 obis.processor:  DEBUG    \tImplemented dataframe (Xarray, Dask) file conversion method\n",
      "2018-07-05 12:57:49.215 obis.processor:  DEBUG    \tReconstructed source file from NetCDF in chunks: 2\n",
      "2018-07-05 12:57:51.611 obis.processor:  DEBUG    \tIdentified source file in local directory\n",
      "2018-07-05 12:57:51.612 obis.processor:  DEBUG    \treconstructed csv\n",
      "2018-07-05 12:57:51.613 obis.processor:  DEBUG    Processing file # 2: DryTortugasReefVisualCensus2004_Event.csv\n",
      "2018-07-05 12:57:51.616 obis.processor:  DEBUG    \tProcessed metadata\n",
      "2018-07-05 12:57:51.618 obis.processor:  DEBUG    \tImplemented dataframe (Xarray, Dask) file conversion method\n",
      "2018-07-05 12:57:51.621 obis.processor:  DEBUG    \tIdentified source file in local directory\n",
      "2018-07-05 12:57:51.622 obis.processor:  DEBUG    Processing file # 3: DryTortugasReefVisualCensus2004_measurementOrFact.csv\n",
      "2018-07-05 12:57:51.625 obis.processor:  DEBUG    \tProcessed metadata\n",
      "2018-07-05 12:57:51.629 obis.processor:  DEBUG    \tImplemented dataframe (Xarray, Dask) file conversion method\n",
      "2018-07-05 12:57:51.633 obis.processor:  DEBUG    \tIdentified source file in local directory\n",
      "2018-07-05 12:57:51.635 obis.processor:  DEBUG    Processing file # 4: DryTortugasReefVisualCensus2004_occurence.csv\n",
      "2018-07-05 12:57:51.642 obis.processor:  DEBUG    \tProcessed metadata\n",
      "2018-07-05 12:57:51.645 obis.processor:  DEBUG    \tImplemented dataframe (Xarray, Dask) file conversion method\n",
      "2018-07-05 12:57:51.646 obis.processor:  DEBUG    \tIdentified source file in local directory\n",
      "2018-07-05 12:58:04.332 obis.processor:  DEBUG    ** Writing file of global missing label definitions (missing_vocab.json)\n",
      "2018-07-05 12:58:04.352 obis.processor:  INFO     ** Writing Datasets.xml file for ERDDAP\n",
      "2018-07-05 12:58:04.353 obis.processor:  DEBUG       writing in dataset arcod_20160822\n",
      "2018-07-05 12:58:04.380 obis.processor:  DEBUG       writing in dataset DryTortugasReefVisualCensus2004_Event\n",
      "2018-07-05 12:58:04.409 obis.processor:  DEBUG       writing in dataset DryTortugasReefVisualCensus2004_measurementOrFact\n",
      "2018-07-05 12:58:04.424 obis.processor:  DEBUG       writing in dataset DryTortugasReefVisualCensus2004_occurence\n",
      "2018-07-05 12:58:04.494 obis.processor:  DEBUG       datasets.xml file created\n",
      "2018-07-05 12:58:04.495 obis.processor:  MESSAGE  ** Processor terminated **\n",
      "\n",
      "\n",
      "2018-07-05 12:58:04.527 obis.processor:  MESSAGE  ** Processor activated **\n",
      "2018-07-05 12:58:04.535 obis.processor:  INFO     ** Searching ScienceBase records for data files and metdata **\n",
      "2018-07-05 12:58:18.228 obis.processor:  INFO        Sciencebase search summary: items to search  1\n",
      "2018-07-05 12:58:18.228 obis.processor:  INFO        Sciencebase search summary: downloaded files  3\n",
      "2018-07-05 12:58:18.229 obis.processor:  INFO        Sciencebase search summary: download_size_mb  173.972633\n",
      "2018-07-05 12:58:18.230 obis.processor:  INFO        Sciencebase search summary: total files  8\n",
      "2018-07-05 12:58:18.233 obis.processor:  INFO        Sciencebase search summary: scibase_size_mb  173.972633\n",
      "2018-07-05 12:58:18.234 obis.processor:  INFO        Sciencebase search summary: candidate files  3\n",
      "2018-07-05 12:59:53.189 obis.processor:  INFO     ** Writing Datasets.xml file for ERDDAP\n",
      "2018-07-05 12:59:53.361 obis.processor:  MESSAGE  ** Processor terminated **\n",
      "\n",
      "\n",
      "2018-07-05 12:59:53.378 obis.processor:  MESSAGE  ** Processor activated **\n",
      "2018-07-05 12:59:53.384 obis.processor:  INFO     ** Searching ScienceBase records for data files and metdata **\n",
      "2018-07-05 12:59:54.418 obis.processor:  INFO        Sciencebase search summary: items to search  1\n",
      "2018-07-05 12:59:54.418 obis.processor:  INFO        Sciencebase search summary: downloaded files  0\n",
      "2018-07-05 12:59:54.418 obis.processor:  INFO        Sciencebase search summary: download_size_mb  0.0\n",
      "2018-07-05 12:59:54.418 obis.processor:  INFO        Sciencebase search summary: total files  8\n",
      "2018-07-05 12:59:54.418 obis.processor:  INFO        Sciencebase search summary: scibase_size_mb  173.972633\n",
      "2018-07-05 12:59:54.418 obis.processor:  INFO        Sciencebase search summary: candidate files  3\n",
      "2018-07-05 13:00:45.800 obis.processor:  INFO     ** Writing Datasets.xml file for ERDDAP\n",
      "2018-07-05 13:00:45.970 obis.processor:  MESSAGE  ** Processor terminated **\n",
      "\n",
      "\n"
     ]
    }
   ],
   "source": [
    "# print log file from previous runs \n",
    "\n",
    "with open('obis_processor.log', 'r') as log_file:\n",
    "    for f in log_file:\n",
    "        print(f.replace('\\n',''))"
   ]
  },
  {
   "cell_type": "code",
   "execution_count": null,
   "metadata": {
    "collapsed": true
   },
   "outputs": [],
   "source": []
  }
 ],
 "metadata": {
  "kernelspec": {
   "display_name": "Python [conda env:bis_python_obis]",
   "language": "python",
   "name": "conda-env-bis_python_obis-py"
  },
  "language_info": {
   "codemirror_mode": {
    "name": "ipython",
    "version": 3
   },
   "file_extension": ".py",
   "mimetype": "text/x-python",
   "name": "python",
   "nbconvert_exporter": "python",
   "pygments_lexer": "ipython3",
   "version": "3.5.5"
  }
 },
 "nbformat": 4,
 "nbformat_minor": 2
}
